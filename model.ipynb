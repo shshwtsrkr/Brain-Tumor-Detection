{
 "cells": [
  {
   "cell_type": "code",
   "execution_count": 1,
   "id": "d145bd98",
   "metadata": {
    "_cell_guid": "b1076dfc-b9ad-4769-8c92-a6c4dae69d19",
    "_uuid": "8f2839f25d086af736a60e9eeb907d3b93b6e0e5",
    "execution": {
     "iopub.execute_input": "2023-03-16T23:26:24.404641Z",
     "iopub.status.busy": "2023-03-16T23:26:24.404132Z",
     "iopub.status.idle": "2023-03-16T23:26:32.979049Z",
     "shell.execute_reply": "2023-03-16T23:26:32.977961Z"
    },
    "papermill": {
     "duration": 8.583406,
     "end_time": "2023-03-16T23:26:32.981746",
     "exception": false,
     "start_time": "2023-03-16T23:26:24.398340",
     "status": "completed"
    },
    "tags": []
   },
   "outputs": [],
   "source": [
    "import numpy as np # linear algebra\n",
    "import pandas as pd # data processing, CSV file I/O (e.g. pd.read_csv)\n",
    "import os\n",
    "import cv2\n",
    "import tensorflow as tf\n",
    "from tensorflow import keras\n",
    "from PIL import Image\n",
    "from sklearn.model_selection import train_test_split\n",
    "from keras.utils import normalize\n",
    "from keras.models import Sequential\n",
    "from keras.layers import Conv2D, MaxPooling2D, Activation, Dropout, Flatten, Dense\n",
    "from keras.utils import to_categorical"
   ]
  },
  {
   "cell_type": "code",
   "execution_count": 2,
   "id": "47aca4a9",
   "metadata": {
    "execution": {
     "iopub.execute_input": "2023-03-16T23:26:32.990502Z",
     "iopub.status.busy": "2023-03-16T23:26:32.989584Z",
     "iopub.status.idle": "2023-03-16T23:26:33.294065Z",
     "shell.execute_reply": "2023-03-16T23:26:33.292689Z"
    },
    "papermill": {
     "duration": 0.311034,
     "end_time": "2023-03-16T23:26:33.296385",
     "exception": false,
     "start_time": "2023-03-16T23:26:32.985351",
     "status": "completed"
    },
    "tags": []
   },
   "outputs": [],
   "source": [
    "image_directory = \"/kaggle/input/brain-tumor-detection/\"\n",
    "healthy_images = os.listdir(image_directory + 'no/')\n",
    "tumor_images = os.listdir(image_directory + 'yes/')\n",
    "dataset = []\n",
    "label = []\n",
    "inp_size = 64\n",
    "# print(healthy_images)"
   ]
  },
  {
   "cell_type": "code",
   "execution_count": 3,
   "id": "8bed39f5",
   "metadata": {
    "execution": {
     "iopub.execute_input": "2023-03-16T23:26:33.304301Z",
     "iopub.status.busy": "2023-03-16T23:26:33.303992Z",
     "iopub.status.idle": "2023-03-16T23:26:43.105901Z",
     "shell.execute_reply": "2023-03-16T23:26:43.104812Z"
    },
    "papermill": {
     "duration": 9.809335,
     "end_time": "2023-03-16T23:26:43.109093",
     "exception": false,
     "start_time": "2023-03-16T23:26:33.299758",
     "status": "completed"
    },
    "tags": []
   },
   "outputs": [],
   "source": [
    "# The interpreter should be able to read .jpg files by recognizing them\n",
    "# Therefore, we msut split the image labels to into head and tail\n",
    "# .split() returns a head, tail tuple\n",
    "# enumerate() keeps a count of iterables\n",
    "\n",
    "for i, image_name in enumerate(healthy_images):\n",
    "    if(image_name.split('.')[1] == 'jpg'):\n",
    "        image = cv2.imread(image_directory + 'no/' + image_name) #array\n",
    "        image = Image.fromarray(image, 'RGB') # we obtain the image from the array\n",
    "        image = image.resize((inp_size, inp_size)) #resizing images to 64x64\n",
    "        \n",
    "        # 1 for brain tumor\n",
    "        # 0 for healthy\n",
    "        # Therefore, we convert image to dependent and independent variables\n",
    "        \n",
    "        dataset.append(np.array(image)) # independent feature(s)\n",
    "        label.append(0) # dependent feature\n",
    "        "
   ]
  },
  {
   "cell_type": "code",
   "execution_count": 4,
   "id": "ce1cbd98",
   "metadata": {
    "execution": {
     "iopub.execute_input": "2023-03-16T23:26:43.120713Z",
     "iopub.status.busy": "2023-03-16T23:26:43.120241Z",
     "iopub.status.idle": "2023-03-16T23:26:55.267753Z",
     "shell.execute_reply": "2023-03-16T23:26:55.266699Z"
    },
    "papermill": {
     "duration": 12.155694,
     "end_time": "2023-03-16T23:26:55.270201",
     "exception": false,
     "start_time": "2023-03-16T23:26:43.114507",
     "status": "completed"
    },
    "tags": []
   },
   "outputs": [],
   "source": [
    "for i, image_name in enumerate(tumor_images):\n",
    "    if(image_name.split('.')[1] == 'jpg'):\n",
    "        image = cv2.imread(image_directory + 'yes/' + image_name)\n",
    "        image = Image.fromarray(image)\n",
    "        image = image.resize((inp_size, inp_size))\n",
    "        \n",
    "        dataset.append(np.array(image))\n",
    "        label.append(1)"
   ]
  },
  {
   "cell_type": "code",
   "execution_count": 5,
   "id": "0d170a11",
   "metadata": {
    "execution": {
     "iopub.execute_input": "2023-03-16T23:26:55.279100Z",
     "iopub.status.busy": "2023-03-16T23:26:55.278070Z",
     "iopub.status.idle": "2023-03-16T23:26:55.298042Z",
     "shell.execute_reply": "2023-03-16T23:26:55.297070Z"
    },
    "papermill": {
     "duration": 0.026742,
     "end_time": "2023-03-16T23:26:55.300493",
     "exception": false,
     "start_time": "2023-03-16T23:26:55.273751",
     "status": "completed"
    },
    "tags": []
   },
   "outputs": [],
   "source": [
    "dataset = np.array(dataset)\n",
    "label = np.array(label)"
   ]
  },
  {
   "cell_type": "code",
   "execution_count": 6,
   "id": "c789650e",
   "metadata": {
    "execution": {
     "iopub.execute_input": "2023-03-16T23:26:55.308290Z",
     "iopub.status.busy": "2023-03-16T23:26:55.307999Z",
     "iopub.status.idle": "2023-03-16T23:26:55.326916Z",
     "shell.execute_reply": "2023-03-16T23:26:55.325559Z"
    },
    "papermill": {
     "duration": 0.025212,
     "end_time": "2023-03-16T23:26:55.329082",
     "exception": false,
     "start_time": "2023-03-16T23:26:55.303870",
     "status": "completed"
    },
    "tags": []
   },
   "outputs": [],
   "source": [
    "X_train, X_test, y_train, y_test = train_test_split(dataset, label, test_size = 0.2, random_state = 0)"
   ]
  },
  {
   "cell_type": "code",
   "execution_count": 7,
   "id": "56613c86",
   "metadata": {
    "execution": {
     "iopub.execute_input": "2023-03-16T23:26:55.336874Z",
     "iopub.status.busy": "2023-03-16T23:26:55.336559Z",
     "iopub.status.idle": "2023-03-16T23:26:55.344882Z",
     "shell.execute_reply": "2023-03-16T23:26:55.343719Z"
    },
    "papermill": {
     "duration": 0.015225,
     "end_time": "2023-03-16T23:26:55.347545",
     "exception": false,
     "start_time": "2023-03-16T23:26:55.332320",
     "status": "completed"
    },
    "tags": []
   },
   "outputs": [
    {
     "name": "stdout",
     "output_type": "stream",
     "text": [
      "(2400, 64, 64, 3)\n"
     ]
    }
   ],
   "source": [
    "print(X_train.shape)\n",
    "\n",
    "# 2400 images of 64x64 size with 3 channels ie RGB"
   ]
  },
  {
   "cell_type": "markdown",
   "id": "5486ebd6",
   "metadata": {
    "papermill": {
     "duration": 0.003165,
     "end_time": "2023-03-16T23:26:55.354131",
     "exception": false,
     "start_time": "2023-03-16T23:26:55.350966",
     "status": "completed"
    },
    "tags": []
   },
   "source": [
    "Normalization of the dataset"
   ]
  },
  {
   "cell_type": "code",
   "execution_count": 8,
   "id": "cdfab629",
   "metadata": {
    "execution": {
     "iopub.execute_input": "2023-03-16T23:26:55.361608Z",
     "iopub.status.busy": "2023-03-16T23:26:55.361338Z",
     "iopub.status.idle": "2023-03-16T23:26:55.649187Z",
     "shell.execute_reply": "2023-03-16T23:26:55.648066Z"
    },
    "papermill": {
     "duration": 0.295,
     "end_time": "2023-03-16T23:26:55.652320",
     "exception": false,
     "start_time": "2023-03-16T23:26:55.357320",
     "status": "completed"
    },
    "tags": []
   },
   "outputs": [],
   "source": [
    "X_train = normalize(X_train, axis = 1)\n",
    "X_test = normalize(X_test, axis = 1)\n",
    "\n",
    "#Convert y to categorical format\n",
    "y_train = to_categorical(y_train, num_classes = 2)\n",
    "y_test = to_categorical(y_test, num_classes = 2)"
   ]
  },
  {
   "cell_type": "markdown",
   "id": "5274f970",
   "metadata": {
    "papermill": {
     "duration": 0.003208,
     "end_time": "2023-03-16T23:26:55.659196",
     "exception": false,
     "start_time": "2023-03-16T23:26:55.655988",
     "status": "completed"
    },
    "tags": []
   },
   "source": [
    "Model Creation"
   ]
  },
  {
   "cell_type": "code",
   "execution_count": 9,
   "id": "82f86215",
   "metadata": {
    "execution": {
     "iopub.execute_input": "2023-03-16T23:26:55.667298Z",
     "iopub.status.busy": "2023-03-16T23:26:55.666963Z",
     "iopub.status.idle": "2023-03-16T23:26:58.873628Z",
     "shell.execute_reply": "2023-03-16T23:26:58.872581Z"
    },
    "papermill": {
     "duration": 3.213858,
     "end_time": "2023-03-16T23:26:58.876366",
     "exception": false,
     "start_time": "2023-03-16T23:26:55.662508",
     "status": "completed"
    },
    "tags": []
   },
   "outputs": [],
   "source": [
    "# depth of conv filter is equal to \n",
    "\n",
    "model = Sequential()\n",
    "\n",
    "model.add(Conv2D(32, (3, 3), input_shape = (inp_size, inp_size, 3), padding = 'same')) # 32 is the number of filters (recommended to be power of 2)\n",
    "model.add(Activation('relu'))\n",
    "model.add(MaxPooling2D(pool_size = (2, 2)))\n",
    "\n",
    "model.add(Conv2D(32, (3, 3), kernel_initializer = 'he_uniform', padding = 'same'))\n",
    "model.add(Activation('relu'))\n",
    "model.add(MaxPooling2D(pool_size = (2, 2)))\n",
    "\n",
    "model.add(Conv2D(64, (3, 3), kernel_initializer = 'he_uniform', padding = 'same'))\n",
    "model.add(Activation('relu'))\n",
    "model.add(MaxPooling2D(pool_size = (2, 2)))\n",
    "\n",
    "model.add(Flatten())\n",
    "model.add(Dense(64))\n",
    "model.add(Activation('relu'))\n",
    "model.add(Dropout(0.5))\n",
    "model.add(Dense(2)) # cross entropy Binary is 1 for categorical it is 2\n",
    "model.add(Activation('softmax'))"
   ]
  },
  {
   "cell_type": "code",
   "execution_count": 10,
   "id": "31864340",
   "metadata": {
    "execution": {
     "iopub.execute_input": "2023-03-16T23:26:58.886172Z",
     "iopub.status.busy": "2023-03-16T23:26:58.884550Z",
     "iopub.status.idle": "2023-03-16T23:26:58.900295Z",
     "shell.execute_reply": "2023-03-16T23:26:58.899416Z"
    },
    "papermill": {
     "duration": 0.022277,
     "end_time": "2023-03-16T23:26:58.902295",
     "exception": false,
     "start_time": "2023-03-16T23:26:58.880018",
     "status": "completed"
    },
    "tags": []
   },
   "outputs": [],
   "source": [
    "model.compile(loss='categorical_crossentropy', optimizer = 'adam', metrics = ['accuracy'])"
   ]
  },
  {
   "cell_type": "code",
   "execution_count": 11,
   "id": "797b3f82",
   "metadata": {
    "execution": {
     "iopub.execute_input": "2023-03-16T23:26:58.910575Z",
     "iopub.status.busy": "2023-03-16T23:26:58.909726Z",
     "iopub.status.idle": "2023-03-16T23:27:31.191202Z",
     "shell.execute_reply": "2023-03-16T23:27:31.190238Z"
    },
    "papermill": {
     "duration": 32.287643,
     "end_time": "2023-03-16T23:27:31.193280",
     "exception": false,
     "start_time": "2023-03-16T23:26:58.905637",
     "status": "completed"
    },
    "tags": []
   },
   "outputs": [
    {
     "name": "stdout",
     "output_type": "stream",
     "text": [
      "Epoch 1/50\n",
      "75/75 [==============================] - 10s 10ms/step - loss: 0.5391 - accuracy: 0.7383 - val_loss: 0.4993 - val_accuracy: 0.7650\n",
      "Epoch 2/50\n",
      "75/75 [==============================] - 0s 6ms/step - loss: 0.4494 - accuracy: 0.8112 - val_loss: 0.3839 - val_accuracy: 0.8283\n",
      "Epoch 3/50\n",
      "75/75 [==============================] - 0s 6ms/step - loss: 0.3296 - accuracy: 0.8675 - val_loss: 0.2976 - val_accuracy: 0.8550\n",
      "Epoch 4/50\n",
      "75/75 [==============================] - 0s 6ms/step - loss: 0.2236 - accuracy: 0.9096 - val_loss: 0.1854 - val_accuracy: 0.9300\n",
      "Epoch 5/50\n",
      "75/75 [==============================] - 0s 6ms/step - loss: 0.1481 - accuracy: 0.9488 - val_loss: 0.1410 - val_accuracy: 0.9533\n",
      "Epoch 6/50\n",
      "75/75 [==============================] - 0s 6ms/step - loss: 0.0918 - accuracy: 0.9688 - val_loss: 0.1122 - val_accuracy: 0.9617\n",
      "Epoch 7/50\n",
      "75/75 [==============================] - 0s 6ms/step - loss: 0.0686 - accuracy: 0.9804 - val_loss: 0.0848 - val_accuracy: 0.9700\n",
      "Epoch 8/50\n",
      "75/75 [==============================] - 0s 6ms/step - loss: 0.0535 - accuracy: 0.9821 - val_loss: 0.0869 - val_accuracy: 0.9650\n",
      "Epoch 9/50\n",
      "75/75 [==============================] - 0s 6ms/step - loss: 0.0328 - accuracy: 0.9896 - val_loss: 0.0786 - val_accuracy: 0.9767\n",
      "Epoch 10/50\n",
      "75/75 [==============================] - 0s 6ms/step - loss: 0.0272 - accuracy: 0.9925 - val_loss: 0.0615 - val_accuracy: 0.9750\n",
      "Epoch 11/50\n",
      "75/75 [==============================] - 1s 7ms/step - loss: 0.0297 - accuracy: 0.9887 - val_loss: 0.1892 - val_accuracy: 0.9317\n",
      "Epoch 12/50\n",
      "75/75 [==============================] - 1s 9ms/step - loss: 0.0204 - accuracy: 0.9946 - val_loss: 0.1756 - val_accuracy: 0.9550\n",
      "Epoch 13/50\n",
      "75/75 [==============================] - 1s 7ms/step - loss: 0.0106 - accuracy: 0.9983 - val_loss: 0.0929 - val_accuracy: 0.9767\n",
      "Epoch 14/50\n",
      "75/75 [==============================] - 0s 6ms/step - loss: 0.0042 - accuracy: 1.0000 - val_loss: 0.0904 - val_accuracy: 0.9767\n",
      "Epoch 15/50\n",
      "75/75 [==============================] - 0s 7ms/step - loss: 0.0030 - accuracy: 0.9996 - val_loss: 0.0862 - val_accuracy: 0.9750\n",
      "Epoch 16/50\n",
      "75/75 [==============================] - 0s 6ms/step - loss: 0.0011 - accuracy: 1.0000 - val_loss: 0.0924 - val_accuracy: 0.9750\n",
      "Epoch 17/50\n",
      "75/75 [==============================] - 0s 6ms/step - loss: 0.0053 - accuracy: 0.9983 - val_loss: 0.1131 - val_accuracy: 0.9767\n",
      "Epoch 18/50\n",
      "75/75 [==============================] - 0s 6ms/step - loss: 0.0043 - accuracy: 0.9992 - val_loss: 0.0718 - val_accuracy: 0.9800\n",
      "Epoch 19/50\n",
      "75/75 [==============================] - 0s 6ms/step - loss: 0.0030 - accuracy: 0.9996 - val_loss: 0.1485 - val_accuracy: 0.9733\n",
      "Epoch 20/50\n",
      "75/75 [==============================] - 0s 6ms/step - loss: 0.0026 - accuracy: 1.0000 - val_loss: 0.0963 - val_accuracy: 0.9783\n",
      "Epoch 21/50\n",
      "75/75 [==============================] - 1s 8ms/step - loss: 0.0011 - accuracy: 1.0000 - val_loss: 0.1106 - val_accuracy: 0.9783\n",
      "Epoch 22/50\n",
      "75/75 [==============================] - 0s 6ms/step - loss: 6.3895e-04 - accuracy: 1.0000 - val_loss: 0.1270 - val_accuracy: 0.9733\n",
      "Epoch 23/50\n",
      "75/75 [==============================] - 0s 6ms/step - loss: 3.9364e-04 - accuracy: 1.0000 - val_loss: 0.1046 - val_accuracy: 0.9783\n",
      "Epoch 24/50\n",
      "75/75 [==============================] - 0s 6ms/step - loss: 0.0012 - accuracy: 1.0000 - val_loss: 0.0940 - val_accuracy: 0.9817\n",
      "Epoch 25/50\n",
      "75/75 [==============================] - 0s 6ms/step - loss: 0.0019 - accuracy: 1.0000 - val_loss: 0.1669 - val_accuracy: 0.9733\n",
      "Epoch 26/50\n",
      "75/75 [==============================] - 0s 6ms/step - loss: 0.0131 - accuracy: 0.9962 - val_loss: 0.0994 - val_accuracy: 0.9750\n",
      "Epoch 27/50\n",
      "75/75 [==============================] - 0s 6ms/step - loss: 0.0033 - accuracy: 0.9996 - val_loss: 0.0944 - val_accuracy: 0.9717\n",
      "Epoch 28/50\n",
      "75/75 [==============================] - 0s 5ms/step - loss: 0.0160 - accuracy: 0.9933 - val_loss: 0.1554 - val_accuracy: 0.9517\n",
      "Epoch 29/50\n",
      "75/75 [==============================] - 0s 6ms/step - loss: 0.0427 - accuracy: 0.9817 - val_loss: 0.1098 - val_accuracy: 0.9700\n",
      "Epoch 30/50\n",
      "75/75 [==============================] - 0s 6ms/step - loss: 0.0158 - accuracy: 0.9958 - val_loss: 0.0388 - val_accuracy: 0.9850\n",
      "Epoch 31/50\n",
      "75/75 [==============================] - 0s 6ms/step - loss: 0.0044 - accuracy: 0.9996 - val_loss: 0.0433 - val_accuracy: 0.9833\n",
      "Epoch 32/50\n",
      "75/75 [==============================] - 0s 6ms/step - loss: 0.0019 - accuracy: 0.9996 - val_loss: 0.0616 - val_accuracy: 0.9850\n",
      "Epoch 33/50\n",
      "75/75 [==============================] - 0s 6ms/step - loss: 5.0313e-04 - accuracy: 1.0000 - val_loss: 0.0928 - val_accuracy: 0.9817\n",
      "Epoch 34/50\n",
      "75/75 [==============================] - 0s 6ms/step - loss: 3.3149e-04 - accuracy: 1.0000 - val_loss: 0.0734 - val_accuracy: 0.9883\n",
      "Epoch 35/50\n",
      "75/75 [==============================] - 0s 6ms/step - loss: 3.1251e-04 - accuracy: 1.0000 - val_loss: 0.0892 - val_accuracy: 0.9817\n",
      "Epoch 36/50\n",
      "75/75 [==============================] - 0s 6ms/step - loss: 1.7223e-04 - accuracy: 1.0000 - val_loss: 0.0840 - val_accuracy: 0.9833\n",
      "Epoch 37/50\n",
      "75/75 [==============================] - 0s 6ms/step - loss: 2.3216e-04 - accuracy: 1.0000 - val_loss: 0.1020 - val_accuracy: 0.9817\n",
      "Epoch 38/50\n",
      "75/75 [==============================] - 0s 6ms/step - loss: 1.6327e-04 - accuracy: 1.0000 - val_loss: 0.1048 - val_accuracy: 0.9817\n",
      "Epoch 39/50\n",
      "75/75 [==============================] - 0s 6ms/step - loss: 0.0119 - accuracy: 0.9962 - val_loss: 0.0829 - val_accuracy: 0.9733\n",
      "Epoch 40/50\n",
      "75/75 [==============================] - 0s 6ms/step - loss: 0.0119 - accuracy: 0.9958 - val_loss: 0.1152 - val_accuracy: 0.9767\n",
      "Epoch 41/50\n",
      "75/75 [==============================] - 0s 6ms/step - loss: 0.0170 - accuracy: 0.9946 - val_loss: 0.1042 - val_accuracy: 0.9733\n",
      "Epoch 42/50\n",
      "75/75 [==============================] - 0s 6ms/step - loss: 0.0186 - accuracy: 0.9937 - val_loss: 0.1052 - val_accuracy: 0.9700\n",
      "Epoch 43/50\n",
      "75/75 [==============================] - 0s 5ms/step - loss: 0.0143 - accuracy: 0.9954 - val_loss: 0.1521 - val_accuracy: 0.9633\n",
      "Epoch 44/50\n",
      "75/75 [==============================] - 0s 6ms/step - loss: 0.0148 - accuracy: 0.9942 - val_loss: 0.1171 - val_accuracy: 0.9750\n",
      "Epoch 45/50\n",
      "75/75 [==============================] - 0s 6ms/step - loss: 0.0097 - accuracy: 0.9971 - val_loss: 0.0745 - val_accuracy: 0.9800\n",
      "Epoch 46/50\n",
      "75/75 [==============================] - 1s 8ms/step - loss: 9.6911e-04 - accuracy: 1.0000 - val_loss: 0.0902 - val_accuracy: 0.9783\n",
      "Epoch 47/50\n",
      "75/75 [==============================] - 0s 6ms/step - loss: 0.0010 - accuracy: 1.0000 - val_loss: 0.1447 - val_accuracy: 0.9783\n",
      "Epoch 48/50\n",
      "75/75 [==============================] - 0s 6ms/step - loss: 3.9804e-04 - accuracy: 1.0000 - val_loss: 0.0842 - val_accuracy: 0.9783\n",
      "Epoch 49/50\n",
      "75/75 [==============================] - 0s 6ms/step - loss: 0.0023 - accuracy: 0.9992 - val_loss: 0.0385 - val_accuracy: 0.9883\n",
      "Epoch 50/50\n",
      "75/75 [==============================] - 0s 6ms/step - loss: 0.0084 - accuracy: 0.9975 - val_loss: 0.1444 - val_accuracy: 0.9750\n"
     ]
    },
    {
     "data": {
      "text/plain": [
       "<keras.callbacks.History at 0x7f2a949ba7d0>"
      ]
     },
     "execution_count": 11,
     "metadata": {},
     "output_type": "execute_result"
    }
   ],
   "source": [
    "model.fit(X_train, y_train, batch_size = 32, verbose = 1, epochs = 50, validation_data = (X_test, y_test), shuffle = False)"
   ]
  },
  {
   "cell_type": "code",
   "execution_count": 12,
   "id": "196c1094",
   "metadata": {
    "execution": {
     "iopub.execute_input": "2023-03-16T23:27:31.248102Z",
     "iopub.status.busy": "2023-03-16T23:27:31.247796Z",
     "iopub.status.idle": "2023-03-16T23:27:31.295799Z",
     "shell.execute_reply": "2023-03-16T23:27:31.294839Z"
    },
    "papermill": {
     "duration": 0.07757,
     "end_time": "2023-03-16T23:27:31.298283",
     "exception": false,
     "start_time": "2023-03-16T23:27:31.220713",
     "status": "completed"
    },
    "tags": []
   },
   "outputs": [],
   "source": [
    "model.save('BrainTumor_100_categorical.h5')"
   ]
  }
 ],
 "metadata": {
  "kernelspec": {
   "display_name": "Python 3",
   "language": "python",
   "name": "python3"
  },
  "language_info": {
   "codemirror_mode": {
    "name": "ipython",
    "version": 3
   },
   "file_extension": ".py",
   "mimetype": "text/x-python",
   "name": "python",
   "nbconvert_exporter": "python",
   "pygments_lexer": "ipython3",
   "version": "3.7.12"
  },
  "papermill": {
   "default_parameters": {},
   "duration": 79.855371,
   "end_time": "2023-03-16T23:27:34.864898",
   "environment_variables": {},
   "exception": null,
   "input_path": "__notebook__.ipynb",
   "output_path": "__notebook__.ipynb",
   "parameters": {},
   "start_time": "2023-03-16T23:26:15.009527",
   "version": "2.4.0"
  }
 },
 "nbformat": 4,
 "nbformat_minor": 5
}
