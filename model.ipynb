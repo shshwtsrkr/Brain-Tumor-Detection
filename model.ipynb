{
 "cells": [
  {
   "cell_type": "code",
   "execution_count": 1,
   "id": "51ee755c",
   "metadata": {
    "_cell_guid": "b1076dfc-b9ad-4769-8c92-a6c4dae69d19",
    "_uuid": "8f2839f25d086af736a60e9eeb907d3b93b6e0e5",
    "execution": {
     "iopub.execute_input": "2023-03-17T07:52:54.655333Z",
     "iopub.status.busy": "2023-03-17T07:52:54.654483Z",
     "iopub.status.idle": "2023-03-17T07:53:03.277109Z",
     "shell.execute_reply": "2023-03-17T07:53:03.276046Z"
    },
    "papermill": {
     "duration": 8.631567,
     "end_time": "2023-03-17T07:53:03.279753",
     "exception": false,
     "start_time": "2023-03-17T07:52:54.648186",
     "status": "completed"
    },
    "tags": []
   },
   "outputs": [],
   "source": [
    "import numpy as np # linear algebra\n",
    "import pandas as pd # data processing, CSV file I/O (e.g. pd.read_csv)\n",
    "import os\n",
    "import cv2\n",
    "import tensorflow as tf\n",
    "from tensorflow import keras\n",
    "from PIL import Image\n",
    "from sklearn.model_selection import train_test_split\n",
    "from keras.utils import normalize\n",
    "from keras.models import Sequential\n",
    "from keras.layers import Conv2D, MaxPooling2D, Activation, Dropout, Flatten, Dense\n",
    "from keras.utils import to_categorical"
   ]
  },
  {
   "cell_type": "code",
   "execution_count": 2,
   "id": "2833a112",
   "metadata": {
    "execution": {
     "iopub.execute_input": "2023-03-17T07:53:03.290417Z",
     "iopub.status.busy": "2023-03-17T07:53:03.289802Z",
     "iopub.status.idle": "2023-03-17T07:53:03.832554Z",
     "shell.execute_reply": "2023-03-17T07:53:03.831535Z"
    },
    "papermill": {
     "duration": 0.550726,
     "end_time": "2023-03-17T07:53:03.835366",
     "exception": false,
     "start_time": "2023-03-17T07:53:03.284640",
     "status": "completed"
    },
    "tags": []
   },
   "outputs": [],
   "source": [
    "image_directory = \"/kaggle/input/brain-tumor-detection/\"\n",
    "healthy_images = os.listdir(image_directory + 'no/')\n",
    "tumor_images = os.listdir(image_directory + 'yes/')\n",
    "dataset = []\n",
    "label = []\n",
    "inp_size = 64\n",
    "# print(healthy_images)"
   ]
  },
  {
   "cell_type": "code",
   "execution_count": 3,
   "id": "99aba217",
   "metadata": {
    "execution": {
     "iopub.execute_input": "2023-03-17T07:53:03.845131Z",
     "iopub.status.busy": "2023-03-17T07:53:03.844819Z",
     "iopub.status.idle": "2023-03-17T07:53:14.126004Z",
     "shell.execute_reply": "2023-03-17T07:53:14.124979Z"
    },
    "papermill": {
     "duration": 10.289139,
     "end_time": "2023-03-17T07:53:14.128869",
     "exception": false,
     "start_time": "2023-03-17T07:53:03.839730",
     "status": "completed"
    },
    "tags": []
   },
   "outputs": [],
   "source": [
    "# The interpreter should be able to read .jpg files by recognizing them\n",
    "# Therefore, we msut split the image labels to into head and tail\n",
    "# .split() returns a head, tail tuple\n",
    "# enumerate() keeps a count of iterables\n",
    "\n",
    "for i, image_name in enumerate(healthy_images):\n",
    "    if(image_name.split('.')[1] == 'jpg'):\n",
    "        image = cv2.imread(image_directory + 'no/' + image_name) #array\n",
    "        image = Image.fromarray(image, 'RGB') # we obtain the image from the array\n",
    "        image = image.resize((inp_size, inp_size)) #resizing images to 64x64\n",
    "        \n",
    "        # 1 for brain tumor\n",
    "        # 0 for healthy\n",
    "        # Therefore, we convert image to dependent and independent variables\n",
    "        \n",
    "        dataset.append(np.array(image)) # independent feature(s)\n",
    "        label.append(0) # dependent feature\n",
    "        "
   ]
  },
  {
   "cell_type": "code",
   "execution_count": 4,
   "id": "5750a9d8",
   "metadata": {
    "execution": {
     "iopub.execute_input": "2023-03-17T07:53:14.138689Z",
     "iopub.status.busy": "2023-03-17T07:53:14.138389Z",
     "iopub.status.idle": "2023-03-17T07:53:26.701789Z",
     "shell.execute_reply": "2023-03-17T07:53:26.700646Z"
    },
    "papermill": {
     "duration": 12.571866,
     "end_time": "2023-03-17T07:53:26.705141",
     "exception": false,
     "start_time": "2023-03-17T07:53:14.133275",
     "status": "completed"
    },
    "tags": []
   },
   "outputs": [],
   "source": [
    "for i, image_name in enumerate(tumor_images):\n",
    "    if(image_name.split('.')[1] == 'jpg'):\n",
    "        image = cv2.imread(image_directory + 'yes/' + image_name)\n",
    "        image = Image.fromarray(image)\n",
    "        image = image.resize((inp_size, inp_size))\n",
    "        \n",
    "        dataset.append(np.array(image))\n",
    "        label.append(1)"
   ]
  },
  {
   "cell_type": "code",
   "execution_count": 5,
   "id": "e9931ec9",
   "metadata": {
    "execution": {
     "iopub.execute_input": "2023-03-17T07:53:26.721109Z",
     "iopub.status.busy": "2023-03-17T07:53:26.720636Z",
     "iopub.status.idle": "2023-03-17T07:53:26.745851Z",
     "shell.execute_reply": "2023-03-17T07:53:26.744880Z"
    },
    "papermill": {
     "duration": 0.035706,
     "end_time": "2023-03-17T07:53:26.748378",
     "exception": false,
     "start_time": "2023-03-17T07:53:26.712672",
     "status": "completed"
    },
    "tags": []
   },
   "outputs": [],
   "source": [
    "dataset = np.array(dataset)\n",
    "label = np.array(label)"
   ]
  },
  {
   "cell_type": "code",
   "execution_count": 6,
   "id": "8a6b75f7",
   "metadata": {
    "execution": {
     "iopub.execute_input": "2023-03-17T07:53:26.761795Z",
     "iopub.status.busy": "2023-03-17T07:53:26.761375Z",
     "iopub.status.idle": "2023-03-17T07:53:26.781326Z",
     "shell.execute_reply": "2023-03-17T07:53:26.780186Z"
    },
    "papermill": {
     "duration": 0.028956,
     "end_time": "2023-03-17T07:53:26.783473",
     "exception": false,
     "start_time": "2023-03-17T07:53:26.754517",
     "status": "completed"
    },
    "tags": []
   },
   "outputs": [],
   "source": [
    "X_train, X_test, y_train, y_test = train_test_split(dataset, label, test_size = 0.2, random_state = 0)"
   ]
  },
  {
   "cell_type": "code",
   "execution_count": 7,
   "id": "65375dd4",
   "metadata": {
    "execution": {
     "iopub.execute_input": "2023-03-17T07:53:26.796832Z",
     "iopub.status.busy": "2023-03-17T07:53:26.796443Z",
     "iopub.status.idle": "2023-03-17T07:53:26.802232Z",
     "shell.execute_reply": "2023-03-17T07:53:26.801077Z"
    },
    "papermill": {
     "duration": 0.019117,
     "end_time": "2023-03-17T07:53:26.808704",
     "exception": false,
     "start_time": "2023-03-17T07:53:26.789587",
     "status": "completed"
    },
    "tags": []
   },
   "outputs": [
    {
     "name": "stdout",
     "output_type": "stream",
     "text": [
      "(2400, 64, 64, 3)\n"
     ]
    }
   ],
   "source": [
    "print(X_train.shape)\n",
    "\n",
    "# 2400 images of 64x64 size with 3 channels ie RGB"
   ]
  },
  {
   "cell_type": "markdown",
   "id": "c57faae8",
   "metadata": {
    "papermill": {
     "duration": 0.005857,
     "end_time": "2023-03-17T07:53:26.821560",
     "exception": false,
     "start_time": "2023-03-17T07:53:26.815703",
     "status": "completed"
    },
    "tags": []
   },
   "source": [
    "Normalization of the dataset"
   ]
  },
  {
   "cell_type": "code",
   "execution_count": 8,
   "id": "9bb70301",
   "metadata": {
    "execution": {
     "iopub.execute_input": "2023-03-17T07:53:26.834955Z",
     "iopub.status.busy": "2023-03-17T07:53:26.834678Z",
     "iopub.status.idle": "2023-03-17T07:53:27.177443Z",
     "shell.execute_reply": "2023-03-17T07:53:27.176396Z"
    },
    "papermill": {
     "duration": 0.352729,
     "end_time": "2023-03-17T07:53:27.180163",
     "exception": false,
     "start_time": "2023-03-17T07:53:26.827434",
     "status": "completed"
    },
    "tags": []
   },
   "outputs": [],
   "source": [
    "X_train = normalize(X_train, axis = 1)\n",
    "X_test = normalize(X_test, axis = 1)\n",
    "\n",
    "#Convert y to categorical format\n",
    "y_train = to_categorical(y_train, num_classes = 2)\n",
    "y_test = to_categorical(y_test, num_classes = 2)"
   ]
  },
  {
   "cell_type": "markdown",
   "id": "d1336030",
   "metadata": {
    "papermill": {
     "duration": 0.004128,
     "end_time": "2023-03-17T07:53:27.189036",
     "exception": false,
     "start_time": "2023-03-17T07:53:27.184908",
     "status": "completed"
    },
    "tags": []
   },
   "source": [
    "Model Creation"
   ]
  },
  {
   "cell_type": "code",
   "execution_count": 9,
   "id": "c3c9dc08",
   "metadata": {
    "execution": {
     "iopub.execute_input": "2023-03-17T07:53:27.198648Z",
     "iopub.status.busy": "2023-03-17T07:53:27.198328Z",
     "iopub.status.idle": "2023-03-17T07:53:30.390205Z",
     "shell.execute_reply": "2023-03-17T07:53:30.389170Z"
    },
    "papermill": {
     "duration": 3.199634,
     "end_time": "2023-03-17T07:53:30.392767",
     "exception": false,
     "start_time": "2023-03-17T07:53:27.193133",
     "status": "completed"
    },
    "tags": []
   },
   "outputs": [],
   "source": [
    "# depth of conv filter is equal to \n",
    "\n",
    "model = Sequential()\n",
    "\n",
    "model.add(Conv2D(32, (3, 3), input_shape = (inp_size, inp_size, 3), padding = 'same')) # 32 is the number of filters (recommended to be power of 2)\n",
    "model.add(Activation('relu'))\n",
    "model.add(MaxPooling2D(pool_size = (2, 2)))\n",
    "\n",
    "model.add(Conv2D(32, (3, 3), kernel_initializer = 'he_uniform', padding = 'same'))\n",
    "model.add(Activation('relu'))\n",
    "model.add(MaxPooling2D(pool_size = (2, 2)))\n",
    "\n",
    "model.add(Conv2D(64, (3, 3), kernel_initializer = 'he_uniform', padding = 'same'))\n",
    "model.add(Activation('relu'))\n",
    "model.add(MaxPooling2D(pool_size = (2, 2)))\n",
    "\n",
    "model.add(Flatten())\n",
    "model.add(Dense(64))\n",
    "model.add(Activation('relu'))\n",
    "model.add(Dropout(0.5))\n",
    "model.add(Dense(2)) # cross entropy Binary is 1 for categorical it is 2\n",
    "model.add(Activation('softmax'))"
   ]
  },
  {
   "cell_type": "code",
   "execution_count": 10,
   "id": "a6080511",
   "metadata": {
    "execution": {
     "iopub.execute_input": "2023-03-17T07:53:30.403230Z",
     "iopub.status.busy": "2023-03-17T07:53:30.402403Z",
     "iopub.status.idle": "2023-03-17T07:53:30.417694Z",
     "shell.execute_reply": "2023-03-17T07:53:30.416787Z"
    },
    "papermill": {
     "duration": 0.02288,
     "end_time": "2023-03-17T07:53:30.420047",
     "exception": false,
     "start_time": "2023-03-17T07:53:30.397167",
     "status": "completed"
    },
    "tags": []
   },
   "outputs": [],
   "source": [
    "model.compile(loss='categorical_crossentropy', optimizer = 'adam', metrics = ['accuracy'])"
   ]
  },
  {
   "cell_type": "code",
   "execution_count": 11,
   "id": "4673b919",
   "metadata": {
    "execution": {
     "iopub.execute_input": "2023-03-17T07:53:30.429441Z",
     "iopub.status.busy": "2023-03-17T07:53:30.429172Z",
     "iopub.status.idle": "2023-03-17T07:54:12.925147Z",
     "shell.execute_reply": "2023-03-17T07:54:12.924103Z"
    },
    "papermill": {
     "duration": 42.503267,
     "end_time": "2023-03-17T07:54:12.927468",
     "exception": false,
     "start_time": "2023-03-17T07:53:30.424201",
     "status": "completed"
    },
    "tags": []
   },
   "outputs": [
    {
     "name": "stdout",
     "output_type": "stream",
     "text": [
      "Epoch 1/50\n",
      "75/75 [==============================] - 10s 11ms/step - loss: 0.5313 - accuracy: 0.7417 - val_loss: 0.4880 - val_accuracy: 0.7767\n",
      "Epoch 2/50\n",
      "75/75 [==============================] - 0s 6ms/step - loss: 0.4197 - accuracy: 0.8196 - val_loss: 0.3865 - val_accuracy: 0.8217\n",
      "Epoch 3/50\n",
      "75/75 [==============================] - 1s 7ms/step - loss: 0.3067 - accuracy: 0.8687 - val_loss: 0.3112 - val_accuracy: 0.8500\n",
      "Epoch 4/50\n",
      "75/75 [==============================] - 1s 7ms/step - loss: 0.2154 - accuracy: 0.9133 - val_loss: 0.2200 - val_accuracy: 0.9017\n",
      "Epoch 5/50\n",
      "75/75 [==============================] - 1s 7ms/step - loss: 0.1494 - accuracy: 0.9446 - val_loss: 0.1536 - val_accuracy: 0.9583\n",
      "Epoch 6/50\n",
      "75/75 [==============================] - 0s 6ms/step - loss: 0.1053 - accuracy: 0.9638 - val_loss: 0.1512 - val_accuracy: 0.9483\n",
      "Epoch 7/50\n",
      "75/75 [==============================] - 0s 6ms/step - loss: 0.0773 - accuracy: 0.9733 - val_loss: 0.1054 - val_accuracy: 0.9633\n",
      "Epoch 8/50\n",
      "75/75 [==============================] - 1s 7ms/step - loss: 0.0525 - accuracy: 0.9842 - val_loss: 0.0747 - val_accuracy: 0.9750\n",
      "Epoch 9/50\n",
      "75/75 [==============================] - 0s 6ms/step - loss: 0.0405 - accuracy: 0.9883 - val_loss: 0.0722 - val_accuracy: 0.9750\n",
      "Epoch 10/50\n",
      "75/75 [==============================] - 0s 6ms/step - loss: 0.0319 - accuracy: 0.9900 - val_loss: 0.0997 - val_accuracy: 0.9700\n",
      "Epoch 11/50\n",
      "75/75 [==============================] - 0s 6ms/step - loss: 0.0254 - accuracy: 0.9925 - val_loss: 0.0938 - val_accuracy: 0.9683\n",
      "Epoch 12/50\n",
      "75/75 [==============================] - 0s 6ms/step - loss: 0.0226 - accuracy: 0.9917 - val_loss: 0.1119 - val_accuracy: 0.9583\n",
      "Epoch 13/50\n",
      "75/75 [==============================] - 0s 6ms/step - loss: 0.0189 - accuracy: 0.9950 - val_loss: 0.2265 - val_accuracy: 0.9400\n",
      "Epoch 14/50\n",
      "75/75 [==============================] - 0s 6ms/step - loss: 0.0186 - accuracy: 0.9954 - val_loss: 0.2747 - val_accuracy: 0.9200\n",
      "Epoch 15/50\n",
      "75/75 [==============================] - 0s 6ms/step - loss: 0.0243 - accuracy: 0.9929 - val_loss: 0.0959 - val_accuracy: 0.9750\n",
      "Epoch 16/50\n",
      "75/75 [==============================] - 0s 6ms/step - loss: 0.0092 - accuracy: 0.9979 - val_loss: 0.1300 - val_accuracy: 0.9700\n",
      "Epoch 17/50\n",
      "75/75 [==============================] - 0s 6ms/step - loss: 0.0123 - accuracy: 0.9971 - val_loss: 0.0885 - val_accuracy: 0.9800\n",
      "Epoch 18/50\n",
      "75/75 [==============================] - 0s 6ms/step - loss: 0.0061 - accuracy: 0.9987 - val_loss: 0.0951 - val_accuracy: 0.9783\n",
      "Epoch 19/50\n",
      "75/75 [==============================] - 1s 8ms/step - loss: 0.0054 - accuracy: 0.9992 - val_loss: 0.1253 - val_accuracy: 0.9767\n",
      "Epoch 20/50\n",
      "75/75 [==============================] - 0s 6ms/step - loss: 0.0030 - accuracy: 0.9996 - val_loss: 0.0932 - val_accuracy: 0.9833\n",
      "Epoch 21/50\n",
      "75/75 [==============================] - 0s 6ms/step - loss: 0.0039 - accuracy: 0.9987 - val_loss: 0.0971 - val_accuracy: 0.9767\n",
      "Epoch 22/50\n",
      "75/75 [==============================] - 0s 6ms/step - loss: 0.0139 - accuracy: 0.9954 - val_loss: 0.2078 - val_accuracy: 0.9617\n",
      "Epoch 23/50\n",
      "75/75 [==============================] - 0s 6ms/step - loss: 0.0043 - accuracy: 0.9992 - val_loss: 0.0753 - val_accuracy: 0.9800\n",
      "Epoch 24/50\n",
      "75/75 [==============================] - 0s 6ms/step - loss: 0.0012 - accuracy: 1.0000 - val_loss: 0.0976 - val_accuracy: 0.9833\n",
      "Epoch 25/50\n",
      "75/75 [==============================] - 0s 6ms/step - loss: 7.4297e-04 - accuracy: 1.0000 - val_loss: 0.0931 - val_accuracy: 0.9833\n",
      "Epoch 26/50\n",
      "75/75 [==============================] - 1s 7ms/step - loss: 7.3260e-04 - accuracy: 1.0000 - val_loss: 0.1240 - val_accuracy: 0.9817\n",
      "Epoch 27/50\n",
      "75/75 [==============================] - 0s 6ms/step - loss: 0.0031 - accuracy: 0.9987 - val_loss: 0.0959 - val_accuracy: 0.9800\n",
      "Epoch 28/50\n",
      "75/75 [==============================] - 0s 6ms/step - loss: 0.0020 - accuracy: 0.9996 - val_loss: 0.1710 - val_accuracy: 0.9667\n",
      "Epoch 29/50\n",
      "75/75 [==============================] - 0s 6ms/step - loss: 0.0026 - accuracy: 0.9996 - val_loss: 0.1061 - val_accuracy: 0.9817\n",
      "Epoch 30/50\n",
      "75/75 [==============================] - 0s 6ms/step - loss: 6.0101e-04 - accuracy: 1.0000 - val_loss: 0.1088 - val_accuracy: 0.9783\n",
      "Epoch 31/50\n",
      "75/75 [==============================] - 0s 5ms/step - loss: 0.0012 - accuracy: 1.0000 - val_loss: 0.1066 - val_accuracy: 0.9800\n",
      "Epoch 32/50\n",
      "75/75 [==============================] - 0s 6ms/step - loss: 0.0060 - accuracy: 0.9979 - val_loss: 0.1375 - val_accuracy: 0.9733\n",
      "Epoch 33/50\n",
      "75/75 [==============================] - 0s 5ms/step - loss: 0.0189 - accuracy: 0.9942 - val_loss: 0.1602 - val_accuracy: 0.9450\n",
      "Epoch 34/50\n",
      "75/75 [==============================] - 0s 6ms/step - loss: 0.0245 - accuracy: 0.9904 - val_loss: 0.1101 - val_accuracy: 0.9783\n",
      "Epoch 35/50\n",
      "75/75 [==============================] - 0s 6ms/step - loss: 0.0036 - accuracy: 0.9987 - val_loss: 0.1788 - val_accuracy: 0.9683\n",
      "Epoch 36/50\n",
      "75/75 [==============================] - 0s 6ms/step - loss: 0.0032 - accuracy: 0.9992 - val_loss: 0.1180 - val_accuracy: 0.9833\n",
      "Epoch 37/50\n",
      "75/75 [==============================] - 0s 6ms/step - loss: 0.0035 - accuracy: 0.9992 - val_loss: 0.0782 - val_accuracy: 0.9833\n",
      "Epoch 38/50\n",
      "75/75 [==============================] - 0s 6ms/step - loss: 0.0058 - accuracy: 0.9979 - val_loss: 0.0890 - val_accuracy: 0.9833\n",
      "Epoch 39/50\n",
      "75/75 [==============================] - 0s 6ms/step - loss: 0.0103 - accuracy: 0.9967 - val_loss: 0.0774 - val_accuracy: 0.9800\n",
      "Epoch 40/50\n",
      "75/75 [==============================] - 0s 6ms/step - loss: 0.0106 - accuracy: 0.9958 - val_loss: 0.2057 - val_accuracy: 0.9767\n",
      "Epoch 41/50\n",
      "75/75 [==============================] - 0s 6ms/step - loss: 0.0087 - accuracy: 0.9971 - val_loss: 0.0586 - val_accuracy: 0.9817\n",
      "Epoch 42/50\n",
      "75/75 [==============================] - 0s 6ms/step - loss: 0.0091 - accuracy: 0.9975 - val_loss: 0.0854 - val_accuracy: 0.9850\n",
      "Epoch 43/50\n",
      "75/75 [==============================] - 0s 6ms/step - loss: 0.0068 - accuracy: 0.9979 - val_loss: 0.0989 - val_accuracy: 0.9767\n",
      "Epoch 44/50\n",
      "75/75 [==============================] - 1s 8ms/step - loss: 0.0052 - accuracy: 0.9987 - val_loss: 0.1120 - val_accuracy: 0.9850\n",
      "Epoch 45/50\n",
      "75/75 [==============================] - 0s 6ms/step - loss: 0.0022 - accuracy: 0.9992 - val_loss: 0.0560 - val_accuracy: 0.9900\n",
      "Epoch 46/50\n",
      "75/75 [==============================] - 1s 9ms/step - loss: 0.0039 - accuracy: 0.9983 - val_loss: 0.1407 - val_accuracy: 0.9783\n",
      "Epoch 47/50\n",
      "75/75 [==============================] - 1s 10ms/step - loss: 0.0102 - accuracy: 0.9962 - val_loss: 0.1012 - val_accuracy: 0.9783\n",
      "Epoch 48/50\n",
      "75/75 [==============================] - 0s 6ms/step - loss: 0.0136 - accuracy: 0.9958 - val_loss: 0.0746 - val_accuracy: 0.9833\n",
      "Epoch 49/50\n",
      "75/75 [==============================] - 0s 6ms/step - loss: 0.0024 - accuracy: 0.9996 - val_loss: 0.0861 - val_accuracy: 0.9850\n",
      "Epoch 50/50\n",
      "75/75 [==============================] - 0s 6ms/step - loss: 3.9609e-04 - accuracy: 1.0000 - val_loss: 0.1071 - val_accuracy: 0.9817\n"
     ]
    },
    {
     "data": {
      "text/plain": [
       "<keras.callbacks.History at 0x7fc78dcff710>"
      ]
     },
     "execution_count": 11,
     "metadata": {},
     "output_type": "execute_result"
    }
   ],
   "source": [
    "model.fit(X_train, y_train, batch_size = 32, verbose = 1, epochs = 50, validation_data = (X_test, y_test), shuffle = False)"
   ]
  },
  {
   "cell_type": "code",
   "execution_count": 12,
   "id": "769ffb47",
   "metadata": {
    "execution": {
     "iopub.execute_input": "2023-03-17T07:54:12.985308Z",
     "iopub.status.busy": "2023-03-17T07:54:12.984392Z",
     "iopub.status.idle": "2023-03-17T07:54:13.033462Z",
     "shell.execute_reply": "2023-03-17T07:54:13.032480Z"
    },
    "papermill": {
     "duration": 0.080069,
     "end_time": "2023-03-17T07:54:13.035728",
     "exception": false,
     "start_time": "2023-03-17T07:54:12.955659",
     "status": "completed"
    },
    "tags": []
   },
   "outputs": [],
   "source": [
    "model.save('BrainTumor_100_categorical.h5')"
   ]
  },
  {
   "cell_type": "markdown",
   "id": "29f79c39",
   "metadata": {
    "papermill": {
     "duration": 0.027182,
     "end_time": "2023-03-17T07:54:13.090223",
     "exception": false,
     "start_time": "2023-03-17T07:54:13.063041",
     "status": "completed"
    },
    "tags": []
   },
   "source": [
    "**Testing the model (binary)**"
   ]
  },
  {
   "cell_type": "code",
   "execution_count": 13,
   "id": "099eb4c5",
   "metadata": {
    "execution": {
     "iopub.execute_input": "2023-03-17T07:54:13.146534Z",
     "iopub.status.busy": "2023-03-17T07:54:13.145650Z",
     "iopub.status.idle": "2023-03-17T07:54:13.518879Z",
     "shell.execute_reply": "2023-03-17T07:54:13.517608Z"
    },
    "papermill": {
     "duration": 0.404812,
     "end_time": "2023-03-17T07:54:13.521952",
     "exception": false,
     "start_time": "2023-03-17T07:54:13.117140",
     "status": "completed"
    },
    "tags": []
   },
   "outputs": [
    {
     "name": "stdout",
     "output_type": "stream",
     "text": [
      "1/1 [==============================] - 0s 132ms/step\n",
      "[0]\n"
     ]
    }
   ],
   "source": [
    "from keras.models import load_model\n",
    "\n",
    "mode = load_model('/kaggle/input/models/BrainTumor_100.h5')\n",
    "\n",
    "img = cv2.imread('/kaggle/input/brain-tumor-detection/pred/pred0.jpg')\n",
    "img = Image.fromarray(img, 'RGB')\n",
    "img = img.resize((64, 64))\n",
    "img = np.array(img)\n",
    "\n",
    "img = np.expand_dims(img, axis = 0)\n",
    "res = np.argmax(model.predict(img), axis = -1)\n",
    "print(res)"
   ]
  },
  {
   "cell_type": "code",
   "execution_count": 14,
   "id": "31be2780",
   "metadata": {
    "execution": {
     "iopub.execute_input": "2023-03-17T07:54:13.578842Z",
     "iopub.status.busy": "2023-03-17T07:54:13.578538Z",
     "iopub.status.idle": "2023-03-17T07:54:13.778124Z",
     "shell.execute_reply": "2023-03-17T07:54:13.777127Z"
    },
    "papermill": {
     "duration": 0.230415,
     "end_time": "2023-03-17T07:54:13.780469",
     "exception": false,
     "start_time": "2023-03-17T07:54:13.550054",
     "status": "completed"
    },
    "tags": []
   },
   "outputs": [
    {
     "name": "stdout",
     "output_type": "stream",
     "text": [
      "1/1 [==============================] - 0s 18ms/step\n",
      "[1]\n"
     ]
    }
   ],
   "source": [
    "from keras.models import load_model\n",
    "\n",
    "mode = load_model('/kaggle/input/models/BrainTumor_100.h5')\n",
    "\n",
    "img = cv2.imread('/kaggle/input/brain-tumor-detection/pred/pred5.jpg')\n",
    "img = Image.fromarray(img, 'RGB')\n",
    "img = img.resize((64, 64))\n",
    "img = np.array(img)\n",
    "\n",
    "img = np.expand_dims(img, axis = 0)\n",
    "res = np.argmax(model.predict(img), axis = -1)\n",
    "print(res)"
   ]
  },
  {
   "cell_type": "markdown",
   "id": "b48fcdd0",
   "metadata": {
    "papermill": {
     "duration": 0.02708,
     "end_time": "2023-03-17T07:54:13.835271",
     "exception": false,
     "start_time": "2023-03-17T07:54:13.808191",
     "status": "completed"
    },
    "tags": []
   },
   "source": [
    "**Testing the model (binary)**"
   ]
  },
  {
   "cell_type": "code",
   "execution_count": 15,
   "id": "795d7ecc",
   "metadata": {
    "execution": {
     "iopub.execute_input": "2023-03-17T07:54:13.891265Z",
     "iopub.status.busy": "2023-03-17T07:54:13.890794Z",
     "iopub.status.idle": "2023-03-17T07:54:14.140836Z",
     "shell.execute_reply": "2023-03-17T07:54:14.139321Z"
    },
    "papermill": {
     "duration": 0.281132,
     "end_time": "2023-03-17T07:54:14.143574",
     "exception": false,
     "start_time": "2023-03-17T07:54:13.862442",
     "status": "completed"
    },
    "tags": []
   },
   "outputs": [
    {
     "name": "stdout",
     "output_type": "stream",
     "text": [
      "1/1 [==============================] - 0s 18ms/step\n",
      "[0]\n"
     ]
    }
   ],
   "source": [
    "from keras.models import load_model\n",
    "\n",
    "mode = load_model('/kaggle/input/models/BrainTumor_100_categorical.h5')\n",
    "\n",
    "img = cv2.imread('/kaggle/input/brain-tumor-detection/pred/pred0.jpg')\n",
    "img = Image.fromarray(img, 'RGB')\n",
    "img = img.resize((64, 64))\n",
    "img = np.array(img)\n",
    "\n",
    "img = np.expand_dims(img, axis = 0)\n",
    "res = np.argmax(model.predict(img), axis = -1)\n",
    "print(res)"
   ]
  },
  {
   "cell_type": "code",
   "execution_count": 16,
   "id": "34d3b1f3",
   "metadata": {
    "execution": {
     "iopub.execute_input": "2023-03-17T07:54:14.201298Z",
     "iopub.status.busy": "2023-03-17T07:54:14.200349Z",
     "iopub.status.idle": "2023-03-17T07:54:14.395694Z",
     "shell.execute_reply": "2023-03-17T07:54:14.394427Z"
    },
    "papermill": {
     "duration": 0.226333,
     "end_time": "2023-03-17T07:54:14.398157",
     "exception": false,
     "start_time": "2023-03-17T07:54:14.171824",
     "status": "completed"
    },
    "tags": []
   },
   "outputs": [
    {
     "name": "stdout",
     "output_type": "stream",
     "text": [
      "1/1 [==============================] - 0s 18ms/step\n",
      "[1]\n"
     ]
    }
   ],
   "source": [
    "from keras.models import load_model\n",
    "\n",
    "mode = load_model('/kaggle/input/models/BrainTumor_100_categorical.h5')\n",
    "\n",
    "img = cv2.imread('/kaggle/input/brain-tumor-detection/pred/pred5.jpg')\n",
    "img = Image.fromarray(img, 'RGB')\n",
    "img = img.resize((64, 64))\n",
    "img = np.array(img)\n",
    "\n",
    "img = np.expand_dims(img, axis = 0)\n",
    "res = np.argmax(model.predict(img), axis = -1)\n",
    "print(res)"
   ]
  }
 ],
 "metadata": {
  "kernelspec": {
   "display_name": "Python 3",
   "language": "python",
   "name": "python3"
  },
  "language_info": {
   "codemirror_mode": {
    "name": "ipython",
    "version": 3
   },
   "file_extension": ".py",
   "mimetype": "text/x-python",
   "name": "python",
   "nbconvert_exporter": "python",
   "pygments_lexer": "ipython3",
   "version": "3.7.12"
  },
  "papermill": {
   "default_parameters": {},
   "duration": 92.919015,
   "end_time": "2023-03-17T07:54:18.249102",
   "environment_variables": {},
   "exception": null,
   "input_path": "__notebook__.ipynb",
   "output_path": "__notebook__.ipynb",
   "parameters": {},
   "start_time": "2023-03-17T07:52:45.330087",
   "version": "2.4.0"
  }
 },
 "nbformat": 4,
 "nbformat_minor": 5
}
